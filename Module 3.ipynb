{
 "cells": [
  {
   "cell_type": "code",
   "execution_count": null,
   "id": "322a72b6",
   "metadata": {},
   "outputs": [],
   "source": [
    "import numpy as np\n",
    "import timeit"
   ]
  },
  {
   "cell_type": "code",
   "execution_count": null,
   "id": "f96cee69",
   "metadata": {
    "scrolled": false
   },
   "outputs": [],
   "source": [
    "# Nested for loops\n",
    "\n",
    "def func():\n",
    "    \n",
    "    c_size = int(input(\"Enter size of column: \"))\n",
    "    \n",
    "    r_size = int(input(\"Enter size of row: \"))\n",
    "    x = []\n",
    "    \n",
    "    y = []\n",
    "    \n",
    "    for j in range(0, c_size):\n",
    "        \n",
    "        y.append(0)\n",
    "        \n",
    "    for j in range(0, r_size):\n",
    "        \n",
    "        x.append(y)\n",
    "\n",
    "    print(x)\n",
    "    \n",
    "func()\n",
    "\n",
    "timeit.timeit()"
   ]
  },
  {
   "cell_type": "code",
   "execution_count": null,
   "id": "8a1155bb",
   "metadata": {},
   "outputs": [],
   "source": [
    "# Numpy fromfunction\n",
    "\n",
    "func = np.fromfunction(lambda i, j: i + j, (100, 100), dtype=int)\n",
    "\n",
    "## func.shape --> Would show shape which is (100,100)\n",
    "\n",
    "func\n",
    "\n",
    "timeit.timeit()"
   ]
  },
  {
   "cell_type": "code",
   "execution_count": null,
   "id": "1519f228",
   "metadata": {},
   "outputs": [],
   "source": [
    "# Numpy broadcasting\n",
    "\n",
    "a = np.array([0,1,2,3,4,5,6,7,8,9,10])\n",
    "\n",
    "b = np.array([0,1,2,3,4,5,6,7,8,9,10])\n",
    "\n",
    "result = np.empty((100, 100), dtype=np.int32)\n",
    "\n",
    "for row, valb in enumerate(b):\n",
    "    \n",
    "    for col, vala in enumerate(a):\n",
    "        \n",
    "        result[row, col] = vala + valb\n",
    "        \n",
    "result\n",
    "\n",
    "timeit.timeit()"
   ]
  },
  {
   "cell_type": "code",
   "execution_count": null,
   "id": "b218835f",
   "metadata": {},
   "outputs": [],
   "source": [
    "# 12x12 matrix slice\n",
    "\n",
    "new = (result[:12,:12])\n",
    "\n",
    "print(new)\n",
    "\n",
    "new.shape\n",
    "\n",
    "timeit.timeit()"
   ]
  },
  {
   "cell_type": "code",
   "execution_count": null,
   "id": "25f523e6",
   "metadata": {},
   "outputs": [],
   "source": [
    "# save the array to a file\n",
    "\n",
    "np.savetxt('data.csv', result, delimiter=',')"
   ]
  },
  {
   "cell_type": "code",
   "execution_count": null,
   "id": "e5b249b1",
   "metadata": {},
   "outputs": [],
   "source": [
    "# use one of the unary ufuncs (Table 4-3, McKinney, 2017, p.109)\n",
    "\n",
    "np.sqrt(new)"
   ]
  },
  {
   "cell_type": "code",
   "execution_count": null,
   "id": "b40d8eff",
   "metadata": {},
   "outputs": [],
   "source": [
    "# use two of the basic array statistical methods (Table 4-5, McKinney, 2017, p.114)\n",
    "\n",
    "print('The Sum Function for \"New\" yields:',np.sum(new))\n",
    "\n",
    "print('The Mean Function for \"New\" yields:',np.mean(new))"
   ]
  },
  {
   "cell_type": "code",
   "execution_count": null,
   "id": "68bcc64d",
   "metadata": {},
   "outputs": [],
   "source": [
    "#load the array file saved in step 4\n",
    "\n",
    "data = np.loadtxt('data.csv', delimiter=',')\n",
    "\n",
    "## print the array\n",
    "\n",
    "print(data)"
   ]
  },
  {
   "cell_type": "code",
   "execution_count": null,
   "id": "856a3673",
   "metadata": {},
   "outputs": [],
   "source": []
  }
 ],
 "metadata": {
  "kernelspec": {
   "display_name": "Python 3",
   "language": "python",
   "name": "python3"
  },
  "language_info": {
   "codemirror_mode": {
    "name": "ipython",
    "version": 3
   },
   "file_extension": ".py",
   "mimetype": "text/x-python",
   "name": "python",
   "nbconvert_exporter": "python",
   "pygments_lexer": "ipython3",
   "version": "3.8.8"
  }
 },
 "nbformat": 4,
 "nbformat_minor": 5
}
